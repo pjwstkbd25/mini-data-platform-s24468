{
 "cells": [
  {
   "cell_type": "code",
   "id": "initial_id",
   "metadata": {
    "collapsed": true,
    "ExecuteTime": {
     "end_time": "2025-05-26T15:40:59.056526Z",
     "start_time": "2025-05-26T15:40:58.944863Z"
    }
   },
   "source": [
    "import pandas as pd\n",
    "\n",
    "df = pd.read_parquet(\n",
    "    \"s3://spark-output/educational_data/\",\n",
    "    engine=\"pyarrow\",\n",
    "    storage_options={\n",
    "        \"key\": \"minioadmin\",\n",
    "        \"secret\": \"minioadmin\",\n",
    "        # wskazujemy Pandasowi, gdzie jest nasz S3-compatible serwer\n",
    "        \"client_kwargs\": {\"endpoint_url\": \"http://localhost:9100\"},\n",
    "        #inIO w  Compose nie ma certyfikatu\n",
    "        \"use_ssl\": False\n",
    "    }\n",
    ")\n",
    "df.head()\n"
   ],
   "outputs": [
    {
     "ename": "FileNotFoundError",
     "evalue": "spark-output/educational_data/part-00000-58c60d7b-e427-4f2d-918e-27969abdaf59-c000.snappy.parquet",
     "output_type": "error",
     "traceback": [
      "\u001B[31m---------------------------------------------------------------------------\u001B[39m",
      "\u001B[31mFileNotFoundError\u001B[39m                         Traceback (most recent call last)",
      "\u001B[36mCell\u001B[39m\u001B[36m \u001B[39m\u001B[32mIn[13]\u001B[39m\u001B[32m, line 3\u001B[39m\n\u001B[32m      1\u001B[39m \u001B[38;5;28;01mimport\u001B[39;00m\u001B[38;5;250m \u001B[39m\u001B[34;01mpandas\u001B[39;00m\u001B[38;5;250m \u001B[39m\u001B[38;5;28;01mas\u001B[39;00m\u001B[38;5;250m \u001B[39m\u001B[34;01mpd\u001B[39;00m\n\u001B[32m----> \u001B[39m\u001B[32m3\u001B[39m df = \u001B[43mpd\u001B[49m\u001B[43m.\u001B[49m\u001B[43mread_parquet\u001B[49m\u001B[43m(\u001B[49m\n\u001B[32m      4\u001B[39m \u001B[43m    \u001B[49m\u001B[33;43m\"\u001B[39;49m\u001B[33;43ms3://spark-output/educational_data/\u001B[39;49m\u001B[33;43m\"\u001B[39;49m\u001B[43m,\u001B[49m\n\u001B[32m      5\u001B[39m \u001B[43m    \u001B[49m\u001B[43mengine\u001B[49m\u001B[43m=\u001B[49m\u001B[33;43m\"\u001B[39;49m\u001B[33;43mpyarrow\u001B[39;49m\u001B[33;43m\"\u001B[39;49m\u001B[43m,\u001B[49m\n\u001B[32m      6\u001B[39m \u001B[43m    \u001B[49m\u001B[43mstorage_options\u001B[49m\u001B[43m=\u001B[49m\u001B[43m{\u001B[49m\n\u001B[32m      7\u001B[39m \u001B[43m        \u001B[49m\u001B[33;43m\"\u001B[39;49m\u001B[33;43mkey\u001B[39;49m\u001B[33;43m\"\u001B[39;49m\u001B[43m:\u001B[49m\u001B[43m \u001B[49m\u001B[33;43m\"\u001B[39;49m\u001B[33;43mminioadmin\u001B[39;49m\u001B[33;43m\"\u001B[39;49m\u001B[43m,\u001B[49m\n\u001B[32m      8\u001B[39m \u001B[43m        \u001B[49m\u001B[33;43m\"\u001B[39;49m\u001B[33;43msecret\u001B[39;49m\u001B[33;43m\"\u001B[39;49m\u001B[43m:\u001B[49m\u001B[43m \u001B[49m\u001B[33;43m\"\u001B[39;49m\u001B[33;43mminioadmin\u001B[39;49m\u001B[33;43m\"\u001B[39;49m\u001B[43m,\u001B[49m\n\u001B[32m      9\u001B[39m \u001B[43m        \u001B[49m\u001B[38;5;66;43;03m# wskazujemy Pandasowi, gdzie jest nasz S3-compatible serwer\u001B[39;49;00m\n\u001B[32m     10\u001B[39m \u001B[43m        \u001B[49m\u001B[33;43m\"\u001B[39;49m\u001B[33;43mclient_kwargs\u001B[39;49m\u001B[33;43m\"\u001B[39;49m\u001B[43m:\u001B[49m\u001B[43m \u001B[49m\u001B[43m{\u001B[49m\u001B[33;43m\"\u001B[39;49m\u001B[33;43mendpoint_url\u001B[39;49m\u001B[33;43m\"\u001B[39;49m\u001B[43m:\u001B[49m\u001B[43m \u001B[49m\u001B[33;43m\"\u001B[39;49m\u001B[33;43mhttp://localhost:9100\u001B[39;49m\u001B[33;43m\"\u001B[39;49m\u001B[43m}\u001B[49m\u001B[43m,\u001B[49m\n\u001B[32m     11\u001B[39m \u001B[43m        \u001B[49m\u001B[38;5;66;43;03m#inIO w  Compose nie ma certyfikatu\u001B[39;49;00m\n\u001B[32m     12\u001B[39m \u001B[43m        \u001B[49m\u001B[33;43m\"\u001B[39;49m\u001B[33;43muse_ssl\u001B[39;49m\u001B[33;43m\"\u001B[39;49m\u001B[43m:\u001B[49m\u001B[43m \u001B[49m\u001B[38;5;28;43;01mFalse\u001B[39;49;00m\n\u001B[32m     13\u001B[39m \u001B[43m    \u001B[49m\u001B[43m}\u001B[49m\n\u001B[32m     14\u001B[39m \u001B[43m)\u001B[49m\n\u001B[32m     15\u001B[39m df.head()\n",
      "\u001B[36mFile \u001B[39m\u001B[32mD:\\PROJECTS\\PythonProjects\\mini-data-platform-s24468\\.venv\\Lib\\site-packages\\pandas\\io\\parquet.py:667\u001B[39m, in \u001B[36mread_parquet\u001B[39m\u001B[34m(path, engine, columns, storage_options, use_nullable_dtypes, dtype_backend, filesystem, filters, **kwargs)\u001B[39m\n\u001B[32m    664\u001B[39m     use_nullable_dtypes = \u001B[38;5;28;01mFalse\u001B[39;00m\n\u001B[32m    665\u001B[39m check_dtype_backend(dtype_backend)\n\u001B[32m--> \u001B[39m\u001B[32m667\u001B[39m \u001B[38;5;28;01mreturn\u001B[39;00m \u001B[43mimpl\u001B[49m\u001B[43m.\u001B[49m\u001B[43mread\u001B[49m\u001B[43m(\u001B[49m\n\u001B[32m    668\u001B[39m \u001B[43m    \u001B[49m\u001B[43mpath\u001B[49m\u001B[43m,\u001B[49m\n\u001B[32m    669\u001B[39m \u001B[43m    \u001B[49m\u001B[43mcolumns\u001B[49m\u001B[43m=\u001B[49m\u001B[43mcolumns\u001B[49m\u001B[43m,\u001B[49m\n\u001B[32m    670\u001B[39m \u001B[43m    \u001B[49m\u001B[43mfilters\u001B[49m\u001B[43m=\u001B[49m\u001B[43mfilters\u001B[49m\u001B[43m,\u001B[49m\n\u001B[32m    671\u001B[39m \u001B[43m    \u001B[49m\u001B[43mstorage_options\u001B[49m\u001B[43m=\u001B[49m\u001B[43mstorage_options\u001B[49m\u001B[43m,\u001B[49m\n\u001B[32m    672\u001B[39m \u001B[43m    \u001B[49m\u001B[43muse_nullable_dtypes\u001B[49m\u001B[43m=\u001B[49m\u001B[43muse_nullable_dtypes\u001B[49m\u001B[43m,\u001B[49m\n\u001B[32m    673\u001B[39m \u001B[43m    \u001B[49m\u001B[43mdtype_backend\u001B[49m\u001B[43m=\u001B[49m\u001B[43mdtype_backend\u001B[49m\u001B[43m,\u001B[49m\n\u001B[32m    674\u001B[39m \u001B[43m    \u001B[49m\u001B[43mfilesystem\u001B[49m\u001B[43m=\u001B[49m\u001B[43mfilesystem\u001B[49m\u001B[43m,\u001B[49m\n\u001B[32m    675\u001B[39m \u001B[43m    \u001B[49m\u001B[43m*\u001B[49m\u001B[43m*\u001B[49m\u001B[43mkwargs\u001B[49m\u001B[43m,\u001B[49m\n\u001B[32m    676\u001B[39m \u001B[43m\u001B[49m\u001B[43m)\u001B[49m\n",
      "\u001B[36mFile \u001B[39m\u001B[32mD:\\PROJECTS\\PythonProjects\\mini-data-platform-s24468\\.venv\\Lib\\site-packages\\pandas\\io\\parquet.py:274\u001B[39m, in \u001B[36mPyArrowImpl.read\u001B[39m\u001B[34m(self, path, columns, filters, use_nullable_dtypes, dtype_backend, storage_options, filesystem, **kwargs)\u001B[39m\n\u001B[32m    267\u001B[39m path_or_handle, handles, filesystem = _get_path_or_handle(\n\u001B[32m    268\u001B[39m     path,\n\u001B[32m    269\u001B[39m     filesystem,\n\u001B[32m    270\u001B[39m     storage_options=storage_options,\n\u001B[32m    271\u001B[39m     mode=\u001B[33m\"\u001B[39m\u001B[33mrb\u001B[39m\u001B[33m\"\u001B[39m,\n\u001B[32m    272\u001B[39m )\n\u001B[32m    273\u001B[39m \u001B[38;5;28;01mtry\u001B[39;00m:\n\u001B[32m--> \u001B[39m\u001B[32m274\u001B[39m     pa_table = \u001B[38;5;28;43mself\u001B[39;49m\u001B[43m.\u001B[49m\u001B[43mapi\u001B[49m\u001B[43m.\u001B[49m\u001B[43mparquet\u001B[49m\u001B[43m.\u001B[49m\u001B[43mread_table\u001B[49m\u001B[43m(\u001B[49m\n\u001B[32m    275\u001B[39m \u001B[43m        \u001B[49m\u001B[43mpath_or_handle\u001B[49m\u001B[43m,\u001B[49m\n\u001B[32m    276\u001B[39m \u001B[43m        \u001B[49m\u001B[43mcolumns\u001B[49m\u001B[43m=\u001B[49m\u001B[43mcolumns\u001B[49m\u001B[43m,\u001B[49m\n\u001B[32m    277\u001B[39m \u001B[43m        \u001B[49m\u001B[43mfilesystem\u001B[49m\u001B[43m=\u001B[49m\u001B[43mfilesystem\u001B[49m\u001B[43m,\u001B[49m\n\u001B[32m    278\u001B[39m \u001B[43m        \u001B[49m\u001B[43mfilters\u001B[49m\u001B[43m=\u001B[49m\u001B[43mfilters\u001B[49m\u001B[43m,\u001B[49m\n\u001B[32m    279\u001B[39m \u001B[43m        \u001B[49m\u001B[43m*\u001B[49m\u001B[43m*\u001B[49m\u001B[43mkwargs\u001B[49m\u001B[43m,\u001B[49m\n\u001B[32m    280\u001B[39m \u001B[43m    \u001B[49m\u001B[43m)\u001B[49m\n\u001B[32m    281\u001B[39m     result = pa_table.to_pandas(**to_pandas_kwargs)\n\u001B[32m    283\u001B[39m     \u001B[38;5;28;01mif\u001B[39;00m manager == \u001B[33m\"\u001B[39m\u001B[33marray\u001B[39m\u001B[33m\"\u001B[39m:\n",
      "\u001B[36mFile \u001B[39m\u001B[32mD:\\PROJECTS\\PythonProjects\\mini-data-platform-s24468\\.venv\\Lib\\site-packages\\pyarrow\\parquet\\core.py:1824\u001B[39m, in \u001B[36mread_table\u001B[39m\u001B[34m(source, columns, use_threads, schema, use_pandas_metadata, read_dictionary, memory_map, buffer_size, partitioning, filesystem, filters, ignore_prefixes, pre_buffer, coerce_int96_timestamp_unit, decryption_properties, thrift_string_size_limit, thrift_container_size_limit, page_checksum_verification)\u001B[39m\n\u001B[32m   1812\u001B[39m     \u001B[38;5;66;03m# TODO test that source is not a directory or a list\u001B[39;00m\n\u001B[32m   1813\u001B[39m     dataset = ParquetFile(\n\u001B[32m   1814\u001B[39m         source, read_dictionary=read_dictionary,\n\u001B[32m   1815\u001B[39m         memory_map=memory_map, buffer_size=buffer_size,\n\u001B[32m   (...)\u001B[39m\u001B[32m   1821\u001B[39m         page_checksum_verification=page_checksum_verification,\n\u001B[32m   1822\u001B[39m     )\n\u001B[32m-> \u001B[39m\u001B[32m1824\u001B[39m \u001B[38;5;28;01mreturn\u001B[39;00m \u001B[43mdataset\u001B[49m\u001B[43m.\u001B[49m\u001B[43mread\u001B[49m\u001B[43m(\u001B[49m\u001B[43mcolumns\u001B[49m\u001B[43m=\u001B[49m\u001B[43mcolumns\u001B[49m\u001B[43m,\u001B[49m\u001B[43m \u001B[49m\u001B[43muse_threads\u001B[49m\u001B[43m=\u001B[49m\u001B[43muse_threads\u001B[49m\u001B[43m,\u001B[49m\n\u001B[32m   1825\u001B[39m \u001B[43m                    \u001B[49m\u001B[43muse_pandas_metadata\u001B[49m\u001B[43m=\u001B[49m\u001B[43muse_pandas_metadata\u001B[49m\u001B[43m)\u001B[49m\n",
      "\u001B[36mFile \u001B[39m\u001B[32mD:\\PROJECTS\\PythonProjects\\mini-data-platform-s24468\\.venv\\Lib\\site-packages\\pyarrow\\parquet\\core.py:1475\u001B[39m, in \u001B[36mParquetDataset.read\u001B[39m\u001B[34m(self, columns, use_threads, use_pandas_metadata)\u001B[39m\n\u001B[32m   1467\u001B[39m         index_columns = [\n\u001B[32m   1468\u001B[39m             col \u001B[38;5;28;01mfor\u001B[39;00m col \u001B[38;5;129;01min\u001B[39;00m _get_pandas_index_columns(metadata)\n\u001B[32m   1469\u001B[39m             \u001B[38;5;28;01mif\u001B[39;00m \u001B[38;5;129;01mnot\u001B[39;00m \u001B[38;5;28misinstance\u001B[39m(col, \u001B[38;5;28mdict\u001B[39m)\n\u001B[32m   1470\u001B[39m         ]\n\u001B[32m   1471\u001B[39m         columns = (\n\u001B[32m   1472\u001B[39m             \u001B[38;5;28mlist\u001B[39m(columns) + \u001B[38;5;28mlist\u001B[39m(\u001B[38;5;28mset\u001B[39m(index_columns) - \u001B[38;5;28mset\u001B[39m(columns))\n\u001B[32m   1473\u001B[39m         )\n\u001B[32m-> \u001B[39m\u001B[32m1475\u001B[39m table = \u001B[38;5;28;43mself\u001B[39;49m\u001B[43m.\u001B[49m\u001B[43m_dataset\u001B[49m\u001B[43m.\u001B[49m\u001B[43mto_table\u001B[49m\u001B[43m(\u001B[49m\n\u001B[32m   1476\u001B[39m \u001B[43m    \u001B[49m\u001B[43mcolumns\u001B[49m\u001B[43m=\u001B[49m\u001B[43mcolumns\u001B[49m\u001B[43m,\u001B[49m\u001B[43m \u001B[49m\u001B[38;5;28;43mfilter\u001B[39;49m\u001B[43m=\u001B[49m\u001B[38;5;28;43mself\u001B[39;49m\u001B[43m.\u001B[49m\u001B[43m_filter_expression\u001B[49m\u001B[43m,\u001B[49m\n\u001B[32m   1477\u001B[39m \u001B[43m    \u001B[49m\u001B[43muse_threads\u001B[49m\u001B[43m=\u001B[49m\u001B[43muse_threads\u001B[49m\n\u001B[32m   1478\u001B[39m \u001B[43m\u001B[49m\u001B[43m)\u001B[49m\n\u001B[32m   1480\u001B[39m \u001B[38;5;66;03m# if use_pandas_metadata, restore the pandas metadata (which gets\u001B[39;00m\n\u001B[32m   1481\u001B[39m \u001B[38;5;66;03m# lost if doing a specific `columns` selection in to_table)\u001B[39;00m\n\u001B[32m   1482\u001B[39m \u001B[38;5;28;01mif\u001B[39;00m use_pandas_metadata:\n",
      "\u001B[36mFile \u001B[39m\u001B[32mD:\\PROJECTS\\PythonProjects\\mini-data-platform-s24468\\.venv\\Lib\\site-packages\\pyarrow\\_dataset.pyx:589\u001B[39m, in \u001B[36mpyarrow._dataset.Dataset.to_table\u001B[39m\u001B[34m()\u001B[39m\n",
      "\u001B[36mFile \u001B[39m\u001B[32mD:\\PROJECTS\\PythonProjects\\mini-data-platform-s24468\\.venv\\Lib\\site-packages\\pyarrow\\_dataset.pyx:3941\u001B[39m, in \u001B[36mpyarrow._dataset.Scanner.to_table\u001B[39m\u001B[34m()\u001B[39m\n",
      "\u001B[36mFile \u001B[39m\u001B[32mD:\\PROJECTS\\PythonProjects\\mini-data-platform-s24468\\.venv\\Lib\\site-packages\\pyarrow\\error.pxi:155\u001B[39m, in \u001B[36mpyarrow.lib.pyarrow_internal_check_status\u001B[39m\u001B[34m()\u001B[39m\n",
      "\u001B[36mFile \u001B[39m\u001B[32mD:\\PROJECTS\\PythonProjects\\mini-data-platform-s24468\\.venv\\Lib\\site-packages\\pyarrow\\error.pxi:89\u001B[39m, in \u001B[36mpyarrow.lib.check_status\u001B[39m\u001B[34m()\u001B[39m\n",
      "\u001B[36mFile \u001B[39m\u001B[32mD:\\PROJECTS\\PythonProjects\\mini-data-platform-s24468\\.venv\\Lib\\site-packages\\pyarrow\\_fs.pyx:1557\u001B[39m, in \u001B[36mpyarrow._fs._cb_open_input_file\u001B[39m\u001B[34m()\u001B[39m\n",
      "\u001B[36mFile \u001B[39m\u001B[32mD:\\PROJECTS\\PythonProjects\\mini-data-platform-s24468\\.venv\\Lib\\site-packages\\pyarrow\\fs.py:419\u001B[39m, in \u001B[36mFSSpecHandler.open_input_file\u001B[39m\u001B[34m(self, path)\u001B[39m\n\u001B[32m    416\u001B[39m \u001B[38;5;28;01mfrom\u001B[39;00m\u001B[38;5;250m \u001B[39m\u001B[34;01mpyarrow\u001B[39;00m\u001B[38;5;250m \u001B[39m\u001B[38;5;28;01mimport\u001B[39;00m PythonFile\n\u001B[32m    418\u001B[39m \u001B[38;5;28;01mif\u001B[39;00m \u001B[38;5;129;01mnot\u001B[39;00m \u001B[38;5;28mself\u001B[39m.fs.isfile(path):\n\u001B[32m--> \u001B[39m\u001B[32m419\u001B[39m     \u001B[38;5;28;01mraise\u001B[39;00m \u001B[38;5;167;01mFileNotFoundError\u001B[39;00m(path)\n\u001B[32m    421\u001B[39m \u001B[38;5;28;01mreturn\u001B[39;00m PythonFile(\u001B[38;5;28mself\u001B[39m.fs.open(path, mode=\u001B[33m\"\u001B[39m\u001B[33mrb\u001B[39m\u001B[33m\"\u001B[39m), mode=\u001B[33m\"\u001B[39m\u001B[33mr\u001B[39m\u001B[33m\"\u001B[39m)\n",
      "\u001B[31mFileNotFoundError\u001B[39m: spark-output/educational_data/part-00000-58c60d7b-e427-4f2d-918e-27969abdaf59-c000.snappy.parquet"
     ]
    }
   ],
   "execution_count": 13
  }
 ],
 "metadata": {
  "kernelspec": {
   "display_name": "Python 3",
   "language": "python",
   "name": "python3"
  },
  "language_info": {
   "codemirror_mode": {
    "name": "ipython",
    "version": 2
   },
   "file_extension": ".py",
   "mimetype": "text/x-python",
   "name": "python",
   "nbconvert_exporter": "python",
   "pygments_lexer": "ipython2",
   "version": "2.7.6"
  }
 },
 "nbformat": 4,
 "nbformat_minor": 5
}
