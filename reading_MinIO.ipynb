{
 "cells": [
  {
   "cell_type": "code",
   "id": "initial_id",
   "metadata": {
    "collapsed": true,
    "ExecuteTime": {
     "end_time": "2025-05-26T15:19:12.810416Z",
     "start_time": "2025-05-26T15:19:12.462790Z"
    }
   },
   "source": [
    "import pandas as pd\n",
    "\n",
    "df = pd.read_parquet(\n",
    "    \"s3://spark-output/educational_data/\",\n",
    "    engine=\"pyarrow\",\n",
    "    storage_options={\n",
    "        \"key\": \"minioadmin\",\n",
    "        \"secret\": \"minioadmin\",\n",
    "        # wskazujemy Pandasowi, gdzie jest nasz S3-compatible serwer\n",
    "        \"client_kwargs\": {\"endpoint_url\": \"http://localhost:9100\"},\n",
    "        #inIO w  Compose nie ma certyfikatu\n",
    "        \"use_ssl\": False\n",
    "    }\n",
    ")\n",
    "print(df.head())\n"
   ],
   "outputs": [
    {
     "name": "stdout",
     "output_type": "stream",
     "text": [
      "      Full_Name  Age Education_Level                    Major  \\\n",
      "0      John Doe   22        Tertiary         Computer Science   \n",
      "1    Jane Smith   28       Secondary                  Nothing   \n",
      "2    Ahmed Khan   19       Secondary                  Nothing   \n",
      "3  Maria Garcia   34        Tertiary  Business Administration   \n",
      "4      Chen Wei   45        Tertiary              Engineering   \n",
      "\n",
      "   Year_Started_Education  Year_Completed_Education  \\\n",
      "0                    2018                      2022   \n",
      "1                    2010                      2014   \n",
      "2                    2022                      2026   \n",
      "3                    2006                      2010   \n",
      "4                    1998                      2002   \n",
      "\n",
      "  Type_of_Educational_Institution  Average_Grade  \n",
      "0                          Public            3.5  \n",
      "1                          Public            0.0  \n",
      "2                          Public            0.0  \n",
      "3                         Private            3.8  \n",
      "4                          Public            0.0  \n"
     ]
    }
   ],
   "execution_count": 5
  }
 ],
 "metadata": {
  "kernelspec": {
   "display_name": "Python 3",
   "language": "python",
   "name": "python3"
  },
  "language_info": {
   "codemirror_mode": {
    "name": "ipython",
    "version": 2
   },
   "file_extension": ".py",
   "mimetype": "text/x-python",
   "name": "python",
   "nbconvert_exporter": "python",
   "pygments_lexer": "ipython2",
   "version": "2.7.6"
  }
 },
 "nbformat": 4,
 "nbformat_minor": 5
}
